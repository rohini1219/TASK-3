{
 "cells": [
  {
   "cell_type": "code",
   "execution_count": 1,
   "metadata": {},
   "outputs": [],
   "source": [
    "import pandas as pd \n",
    "import numpy as np\n",
    "import matplotlib.pyplot as plt\n",
    "import seaborn as sns \n",
    "from datetime import datetime"
   ]
  },
  {
   "cell_type": "code",
   "execution_count": 4,
   "metadata": {},
   "outputs": [
    {
     "data": {
      "text/html": [
       "<div>\n",
       "<style scoped>\n",
       "    .dataframe tbody tr th:only-of-type {\n",
       "        vertical-align: middle;\n",
       "    }\n",
       "\n",
       "    .dataframe tbody tr th {\n",
       "        vertical-align: top;\n",
       "    }\n",
       "\n",
       "    .dataframe thead th {\n",
       "        text-align: right;\n",
       "    }\n",
       "</style>\n",
       "<table border=\"1\" class=\"dataframe\">\n",
       "  <thead>\n",
       "    <tr style=\"text-align: right;\">\n",
       "      <th></th>\n",
       "      <th>year</th>\n",
       "      <th>tot_hhs</th>\n",
       "      <th>own</th>\n",
       "      <th>own_wm</th>\n",
       "      <th>own_prop</th>\n",
       "      <th>own_wm_prop</th>\n",
       "      <th>prop_hhs</th>\n",
       "      <th>age</th>\n",
       "      <th>size</th>\n",
       "      <th>income</th>\n",
       "      <th>expenditure</th>\n",
       "      <th>eqv_income</th>\n",
       "      <th>eqv_exp</th>\n",
       "    </tr>\n",
       "  </thead>\n",
       "  <tbody>\n",
       "    <tr>\n",
       "      <th>0</th>\n",
       "      <td>2008</td>\n",
       "      <td>1560859</td>\n",
       "      <td>1087580</td>\n",
       "      <td>574406</td>\n",
       "      <td>69.7</td>\n",
       "      <td>36.8</td>\n",
       "      <td>100.0</td>\n",
       "      <td>35.9</td>\n",
       "      <td>2.7</td>\n",
       "      <td>46704</td>\n",
       "      <td>42394</td>\n",
       "      <td>26869</td>\n",
       "      <td>25132</td>\n",
       "    </tr>\n",
       "    <tr>\n",
       "      <th>1</th>\n",
       "      <td>2008</td>\n",
       "      <td>185965</td>\n",
       "      <td>71256</td>\n",
       "      <td>39405</td>\n",
       "      <td>38.3</td>\n",
       "      <td>21.2</td>\n",
       "      <td>11.9</td>\n",
       "      <td>29.9</td>\n",
       "      <td>2.6</td>\n",
       "      <td>23404</td>\n",
       "      <td>25270</td>\n",
       "      <td>14258</td>\n",
       "      <td>15824</td>\n",
       "    </tr>\n",
       "    <tr>\n",
       "      <th>2</th>\n",
       "      <td>2008</td>\n",
       "      <td>312376</td>\n",
       "      <td>191470</td>\n",
       "      <td>48424</td>\n",
       "      <td>61.3</td>\n",
       "      <td>15.5</td>\n",
       "      <td>20.0</td>\n",
       "      <td>40.0</td>\n",
       "      <td>2.3</td>\n",
       "      <td>16747</td>\n",
       "      <td>21145</td>\n",
       "      <td>13402</td>\n",
       "      <td>14408</td>\n",
       "    </tr>\n",
       "    <tr>\n",
       "      <th>3</th>\n",
       "      <td>2008</td>\n",
       "      <td>312333</td>\n",
       "      <td>196203</td>\n",
       "      <td>84171</td>\n",
       "      <td>62.8</td>\n",
       "      <td>26.9</td>\n",
       "      <td>20.0</td>\n",
       "      <td>34.7</td>\n",
       "      <td>2.8</td>\n",
       "      <td>31308</td>\n",
       "      <td>29855</td>\n",
       "      <td>18917</td>\n",
       "      <td>18266</td>\n",
       "    </tr>\n",
       "    <tr>\n",
       "      <th>4</th>\n",
       "      <td>2008</td>\n",
       "      <td>312240</td>\n",
       "      <td>217657</td>\n",
       "      <td>141318</td>\n",
       "      <td>69.7</td>\n",
       "      <td>45.3</td>\n",
       "      <td>20.0</td>\n",
       "      <td>31.5</td>\n",
       "      <td>3.0</td>\n",
       "      <td>49106</td>\n",
       "      <td>46561</td>\n",
       "      <td>26870</td>\n",
       "      <td>24672</td>\n",
       "    </tr>\n",
       "    <tr>\n",
       "      <th>...</th>\n",
       "      <td>...</td>\n",
       "      <td>...</td>\n",
       "      <td>...</td>\n",
       "      <td>...</td>\n",
       "      <td>...</td>\n",
       "      <td>...</td>\n",
       "      <td>...</td>\n",
       "      <td>...</td>\n",
       "      <td>...</td>\n",
       "      <td>...</td>\n",
       "      <td>...</td>\n",
       "      <td>...</td>\n",
       "      <td>...</td>\n",
       "    </tr>\n",
       "    <tr>\n",
       "      <th>65</th>\n",
       "      <td>2020</td>\n",
       "      <td>352564</td>\n",
       "      <td>213893</td>\n",
       "      <td>119637</td>\n",
       "      <td>60.7</td>\n",
       "      <td>33.9</td>\n",
       "      <td>20.1</td>\n",
       "      <td>36.9</td>\n",
       "      <td>2.8</td>\n",
       "      <td>69779</td>\n",
       "      <td>57351</td>\n",
       "      <td>38889</td>\n",
       "      <td>33468</td>\n",
       "    </tr>\n",
       "    <tr>\n",
       "      <th>66</th>\n",
       "      <td>2020</td>\n",
       "      <td>350182</td>\n",
       "      <td>235256</td>\n",
       "      <td>141104</td>\n",
       "      <td>67.2</td>\n",
       "      <td>40.3</td>\n",
       "      <td>19.9</td>\n",
       "      <td>35.0</td>\n",
       "      <td>3.0</td>\n",
       "      <td>88944</td>\n",
       "      <td>83038</td>\n",
       "      <td>48929</td>\n",
       "      <td>45978</td>\n",
       "    </tr>\n",
       "    <tr>\n",
       "      <th>67</th>\n",
       "      <td>2020</td>\n",
       "      <td>351328</td>\n",
       "      <td>288779</td>\n",
       "      <td>187838</td>\n",
       "      <td>82.2</td>\n",
       "      <td>53.5</td>\n",
       "      <td>20.0</td>\n",
       "      <td>39.6</td>\n",
       "      <td>2.6</td>\n",
       "      <td>104277</td>\n",
       "      <td>123424</td>\n",
       "      <td>62718</td>\n",
       "      <td>71985</td>\n",
       "    </tr>\n",
       "    <tr>\n",
       "      <th>68</th>\n",
       "      <td>2020</td>\n",
       "      <td>329588</td>\n",
       "      <td>156459</td>\n",
       "      <td>107753</td>\n",
       "      <td>47.5</td>\n",
       "      <td>32.7</td>\n",
       "      <td>18.8</td>\n",
       "      <td>31.1</td>\n",
       "      <td>3.2</td>\n",
       "      <td>69581</td>\n",
       "      <td>54141</td>\n",
       "      <td>35075</td>\n",
       "      <td>29684</td>\n",
       "    </tr>\n",
       "    <tr>\n",
       "      <th>69</th>\n",
       "      <td>2020</td>\n",
       "      <td>388013</td>\n",
       "      <td>314154</td>\n",
       "      <td>38270</td>\n",
       "      <td>81.0</td>\n",
       "      <td>9.9</td>\n",
       "      <td>22.1</td>\n",
       "      <td>69.8</td>\n",
       "      <td>1.7</td>\n",
       "      <td>34712</td>\n",
       "      <td>34643</td>\n",
       "      <td>25077</td>\n",
       "      <td>27037</td>\n",
       "    </tr>\n",
       "  </tbody>\n",
       "</table>\n",
       "<p>70 rows × 13 columns</p>\n",
       "</div>"
      ],
      "text/plain": [
       "    year  tot_hhs      own  own_wm  own_prop  own_wm_prop  prop_hhs   age  \\\n",
       "0   2008  1560859  1087580  574406      69.7         36.8     100.0  35.9   \n",
       "1   2008   185965    71256   39405      38.3         21.2      11.9  29.9   \n",
       "2   2008   312376   191470   48424      61.3         15.5      20.0  40.0   \n",
       "3   2008   312333   196203   84171      62.8         26.9      20.0  34.7   \n",
       "4   2008   312240   217657  141318      69.7         45.3      20.0  31.5   \n",
       "..   ...      ...      ...     ...       ...          ...       ...   ...   \n",
       "65  2020   352564   213893  119637      60.7         33.9      20.1  36.9   \n",
       "66  2020   350182   235256  141104      67.2         40.3      19.9  35.0   \n",
       "67  2020   351328   288779  187838      82.2         53.5      20.0  39.6   \n",
       "68  2020   329588   156459  107753      47.5         32.7      18.8  31.1   \n",
       "69  2020   388013   314154   38270      81.0          9.9      22.1  69.8   \n",
       "\n",
       "    size  income  expenditure  eqv_income  eqv_exp  \n",
       "0    2.7   46704        42394       26869    25132  \n",
       "1    2.6   23404        25270       14258    15824  \n",
       "2    2.3   16747        21145       13402    14408  \n",
       "3    2.8   31308        29855       18917    18266  \n",
       "4    3.0   49106        46561       26870    24672  \n",
       "..   ...     ...          ...         ...      ...  \n",
       "65   2.8   69779        57351       38889    33468  \n",
       "66   3.0   88944        83038       48929    45978  \n",
       "67   2.6  104277       123424       62718    71985  \n",
       "68   3.2   69581        54141       35075    29684  \n",
       "69   1.7   34712        34643       25077    27037  \n",
       "\n",
       "[70 rows x 13 columns]"
      ]
     },
     "execution_count": 4,
     "metadata": {},
     "output_type": "execute_result"
    }
   ],
   "source": [
    "data=pd.read_csv(\"/home/rgukt/Downloads/householdtask3.csv\")\n",
    "data"
   ]
  },
  {
   "cell_type": "code",
   "execution_count": 23,
   "metadata": {
    "scrolled": false
   },
   "outputs": [
    {
     "data": {
      "text/html": [
       "<div>\n",
       "<style scoped>\n",
       "    .dataframe tbody tr th:only-of-type {\n",
       "        vertical-align: middle;\n",
       "    }\n",
       "\n",
       "    .dataframe tbody tr th {\n",
       "        vertical-align: top;\n",
       "    }\n",
       "\n",
       "    .dataframe thead th {\n",
       "        text-align: right;\n",
       "    }\n",
       "</style>\n",
       "<table border=\"1\" class=\"dataframe\">\n",
       "  <thead>\n",
       "    <tr style=\"text-align: right;\">\n",
       "      <th></th>\n",
       "      <th>year</th>\n",
       "      <th>tot_hhs</th>\n",
       "      <th>own</th>\n",
       "      <th>own_wm</th>\n",
       "      <th>own_prop</th>\n",
       "      <th>own_wm_prop</th>\n",
       "      <th>prop_hhs</th>\n",
       "      <th>age</th>\n",
       "      <th>size</th>\n",
       "      <th>income</th>\n",
       "      <th>expenditure</th>\n",
       "      <th>eqv_income</th>\n",
       "      <th>eqv_exp</th>\n",
       "    </tr>\n",
       "  </thead>\n",
       "  <tbody>\n",
       "    <tr>\n",
       "      <th>0</th>\n",
       "      <td>2008</td>\n",
       "      <td>1560859</td>\n",
       "      <td>1087580</td>\n",
       "      <td>574406</td>\n",
       "      <td>69.7</td>\n",
       "      <td>36.8</td>\n",
       "      <td>100.0</td>\n",
       "      <td>35.9</td>\n",
       "      <td>2.7</td>\n",
       "      <td>46704</td>\n",
       "      <td>42394</td>\n",
       "      <td>26869</td>\n",
       "      <td>25132</td>\n",
       "    </tr>\n",
       "    <tr>\n",
       "      <th>1</th>\n",
       "      <td>2008</td>\n",
       "      <td>185965</td>\n",
       "      <td>71256</td>\n",
       "      <td>39405</td>\n",
       "      <td>38.3</td>\n",
       "      <td>21.2</td>\n",
       "      <td>11.9</td>\n",
       "      <td>29.9</td>\n",
       "      <td>2.6</td>\n",
       "      <td>23404</td>\n",
       "      <td>25270</td>\n",
       "      <td>14258</td>\n",
       "      <td>15824</td>\n",
       "    </tr>\n",
       "    <tr>\n",
       "      <th>2</th>\n",
       "      <td>2008</td>\n",
       "      <td>312376</td>\n",
       "      <td>191470</td>\n",
       "      <td>48424</td>\n",
       "      <td>61.3</td>\n",
       "      <td>15.5</td>\n",
       "      <td>20.0</td>\n",
       "      <td>40.0</td>\n",
       "      <td>2.3</td>\n",
       "      <td>16747</td>\n",
       "      <td>21145</td>\n",
       "      <td>13402</td>\n",
       "      <td>14408</td>\n",
       "    </tr>\n",
       "    <tr>\n",
       "      <th>3</th>\n",
       "      <td>2008</td>\n",
       "      <td>312333</td>\n",
       "      <td>196203</td>\n",
       "      <td>84171</td>\n",
       "      <td>62.8</td>\n",
       "      <td>26.9</td>\n",
       "      <td>20.0</td>\n",
       "      <td>34.7</td>\n",
       "      <td>2.8</td>\n",
       "      <td>31308</td>\n",
       "      <td>29855</td>\n",
       "      <td>18917</td>\n",
       "      <td>18266</td>\n",
       "    </tr>\n",
       "    <tr>\n",
       "      <th>4</th>\n",
       "      <td>2008</td>\n",
       "      <td>312240</td>\n",
       "      <td>217657</td>\n",
       "      <td>141318</td>\n",
       "      <td>69.7</td>\n",
       "      <td>45.3</td>\n",
       "      <td>20.0</td>\n",
       "      <td>31.5</td>\n",
       "      <td>3.0</td>\n",
       "      <td>49106</td>\n",
       "      <td>46561</td>\n",
       "      <td>26870</td>\n",
       "      <td>24672</td>\n",
       "    </tr>\n",
       "    <tr>\n",
       "      <th>5</th>\n",
       "      <td>2008</td>\n",
       "      <td>312336</td>\n",
       "      <td>229014</td>\n",
       "      <td>147658</td>\n",
       "      <td>73.3</td>\n",
       "      <td>47.3</td>\n",
       "      <td>20.0</td>\n",
       "      <td>35.3</td>\n",
       "      <td>2.6</td>\n",
       "      <td>61674</td>\n",
       "      <td>52776</td>\n",
       "      <td>36691</td>\n",
       "      <td>31958</td>\n",
       "    </tr>\n",
       "    <tr>\n",
       "      <th>6</th>\n",
       "      <td>2008</td>\n",
       "      <td>311574</td>\n",
       "      <td>253235</td>\n",
       "      <td>152835</td>\n",
       "      <td>81.3</td>\n",
       "      <td>49.1</td>\n",
       "      <td>20.0</td>\n",
       "      <td>39.3</td>\n",
       "      <td>2.5</td>\n",
       "      <td>96861</td>\n",
       "      <td>72822</td>\n",
       "      <td>55637</td>\n",
       "      <td>42932</td>\n",
       "    </tr>\n",
       "    <tr>\n",
       "      <th>7</th>\n",
       "      <td>2008</td>\n",
       "      <td>312761</td>\n",
       "      <td>194358</td>\n",
       "      <td>49448</td>\n",
       "      <td>62.1</td>\n",
       "      <td>15.8</td>\n",
       "      <td>20.0</td>\n",
       "      <td>38.7</td>\n",
       "      <td>2.5</td>\n",
       "      <td>23680</td>\n",
       "      <td>16413</td>\n",
       "      <td>15190</td>\n",
       "      <td>11015</td>\n",
       "    </tr>\n",
       "    <tr>\n",
       "      <th>8</th>\n",
       "      <td>2008</td>\n",
       "      <td>311973</td>\n",
       "      <td>206342</td>\n",
       "      <td>86390</td>\n",
       "      <td>66.1</td>\n",
       "      <td>27.7</td>\n",
       "      <td>20.0</td>\n",
       "      <td>36.1</td>\n",
       "      <td>2.7</td>\n",
       "      <td>34155</td>\n",
       "      <td>29085</td>\n",
       "      <td>20357</td>\n",
       "      <td>18121</td>\n",
       "    </tr>\n",
       "    <tr>\n",
       "      <th>9</th>\n",
       "      <td>2008</td>\n",
       "      <td>311840</td>\n",
       "      <td>194361</td>\n",
       "      <td>108065</td>\n",
       "      <td>62.3</td>\n",
       "      <td>34.7</td>\n",
       "      <td>20.0</td>\n",
       "      <td>33.0</td>\n",
       "      <td>2.8</td>\n",
       "      <td>49771</td>\n",
       "      <td>42662</td>\n",
       "      <td>27203</td>\n",
       "      <td>25132</td>\n",
       "    </tr>\n",
       "  </tbody>\n",
       "</table>\n",
       "</div>"
      ],
      "text/plain": [
       "   year  tot_hhs      own  own_wm  own_prop  own_wm_prop  prop_hhs   age  \\\n",
       "0  2008  1560859  1087580  574406      69.7         36.8     100.0  35.9   \n",
       "1  2008   185965    71256   39405      38.3         21.2      11.9  29.9   \n",
       "2  2008   312376   191470   48424      61.3         15.5      20.0  40.0   \n",
       "3  2008   312333   196203   84171      62.8         26.9      20.0  34.7   \n",
       "4  2008   312240   217657  141318      69.7         45.3      20.0  31.5   \n",
       "5  2008   312336   229014  147658      73.3         47.3      20.0  35.3   \n",
       "6  2008   311574   253235  152835      81.3         49.1      20.0  39.3   \n",
       "7  2008   312761   194358   49448      62.1         15.8      20.0  38.7   \n",
       "8  2008   311973   206342   86390      66.1         27.7      20.0  36.1   \n",
       "9  2008   311840   194361  108065      62.3         34.7      20.0  33.0   \n",
       "\n",
       "   size  income  expenditure  eqv_income  eqv_exp  \n",
       "0   2.7   46704        42394       26869    25132  \n",
       "1   2.6   23404        25270       14258    15824  \n",
       "2   2.3   16747        21145       13402    14408  \n",
       "3   2.8   31308        29855       18917    18266  \n",
       "4   3.0   49106        46561       26870    24672  \n",
       "5   2.6   61674        52776       36691    31958  \n",
       "6   2.5   96861        72822       55637    42932  \n",
       "7   2.5   23680        16413       15190    11015  \n",
       "8   2.7   34155        29085       20357    18121  \n",
       "9   2.8   49771        42662       27203    25132  "
      ]
     },
     "metadata": {},
     "output_type": "display_data"
    }
   ],
   "source": [
    "display(data.head(10))"
   ]
  },
  {
   "cell_type": "markdown",
   "metadata": {},
   "source": [
    "# LINE CHARTS"
   ]
  },
  {
   "cell_type": "code",
   "execution_count": 34,
   "metadata": {},
   "outputs": [
    {
     "data": {
      "image/png": "[encoded data removed]",
      "text/plain": [
       "<Figure size 432x288 with 1 Axes>"
      ]
     },
     "metadata": {
      "needs_background": "light"
     },
     "output_type": "display_data"
    }
   ],
   "source": [
    "import pandas as pd\n",
    "import numpy as np\n",
    "import matplotlib.pyplot as plt\n",
    "plt.plot(data['year'])\n",
    "plt.plot(data['own'])\n",
    "plt.title(\"LINE CHART\")\n",
    "plt.xlabel('year')\n",
    "plt.ylabel('own')\n",
    "plt.show()"
   ]
  },
  {
   "cell_type": "code",
   "execution_count": 37,
   "metadata": {},
   "outputs": [
    {
     "data": {
      "image/png": "[encoded data removed]",
      "text/plain": [
       "<Figure size 432x288 with 1 Axes>"
      ]
     },
     "metadata": {
      "needs_background": "light"
     },
     "output_type": "display_data"
    }
   ],
   "source": [
    "plt.plot(data['income'])\n",
    "plt.plot(data['expenditure'])\n",
    "plt.title(\"LINE CHART\")\n",
    "plt.xlabel('income')\n",
    "plt.ylabel('expenditure')\n",
    "plt.show()"
   ]
  },
  {
   "cell_type": "markdown",
   "metadata": {},
   "source": [
    "# SCATTER PLOT"
   ]
  },
  {
   "cell_type": "code",
   "execution_count": 24,
   "metadata": {},
   "outputs": [
    {
     "data": {
      "image/png": "[encoded data removed]",
      "text/plain": [
       "<Figure size 432x288 with 1 Axes>"
      ]
     },
     "metadata": {
      "needs_background": "light"
     },
     "output_type": "display_data"
    }
   ],
   "source": [
    "import pandas as pd\n",
    "import numpy as np\n",
    "import matplotlib.pyplot as plt\n",
    "plt.scatter(data['income'],data['expenditure'])\n",
    "plt.title(\"SCATTER PLOT\")\n",
    "plt.xlabel('INCOME')\n",
    "plt.ylabel('EXPENDITURE')\n",
    "plt.show()"
   ]
  },
  {
   "cell_type": "code",
   "execution_count": 26,
   "metadata": {},
   "outputs": [
    {
     "data": {
      "image/png": "[encoded data removed]",
      "text/plain": [
       "<Figure size 432x288 with 1 Axes>"
      ]
     },
     "metadata": {
      "needs_background": "light"
     },
     "output_type": "display_data"
    }
   ],
   "source": [
    "import pandas as pd\n",
    "import numpy as np\n",
    "import matplotlib.pyplot as plt\n",
    "plt.scatter(data['income'],data['expenditure'],c=\"pink\",linewidths=2,marker=\"s\",edgecolor=\"green\",s=50)\n",
    "plt.xlabel(\"X-axis\")\n",
    "plt.ylabel(\"Y-axis\")\n",
    "plt.show()"
   ]
  },
  {
   "cell_type": "markdown",
   "metadata": {},
   "source": [
    "# BAR CHART"
   ]
  },
  {
   "cell_type": "code",
   "execution_count": 8,
   "metadata": {},
   "outputs": [
    {
     "data": {
      "image/png": "[encoded data removed]",
      "text/plain": [
       "<Figure size 432x288 with 1 Axes>"
      ]
     },
     "metadata": {
      "needs_background": "light"
     },
     "output_type": "display_data"
    }
   ],
   "source": [
    "data=pd.read_csv(\"/home/rgukt/Downloads/householdtask3.csv\")\n",
    "plt.bar(data['year'],data['own'])\n",
    "plt.title(\"BAR CHART\")\n",
    "plt.xlabel('YEAR')\n",
    "plt.ylabel('OWN')\n",
    "plt.show()"
   ]
  },
  {
   "cell_type": "code",
   "execution_count": 30,
   "metadata": {},
   "outputs": [
    {
     "data": {
      "image/png": "[encoded data removed]",
      "text/plain": [
       "<Figure size 864x576 with 1 Axes>"
      ]
     },
     "metadata": {
      "needs_background": "light"
     },
     "output_type": "display_data"
    }
   ],
   "source": [
    "import pandas as pd\n",
    "import numpy as np\n",
    "import matplotlib.pyplot as plt\n",
    "barWidth = 0.25\n",
    "fig=plt.subplots(figsize=(12,8))\n",
    "\n",
    "IT =[12,30,1,8,22]\n",
    "ECE=[28,6,16,5,10]\n",
    "CSE=[29,3,24,25,17]\n",
    "\n",
    "br1=np.arange(len(IT))\n",
    "br2=[X+ barWidth for X in br1]\n",
    "br3=[X+ barWidth for X in br2]\n",
    "\n",
    "plt.bar(br1,IT,color='r',width=barWidth,edgecolor='grey',label='IT')\n",
    "plt.bar(br2,ECE,color='g',width=barWidth,edgecolor='grey',label='ECE')\n",
    "plt.bar(br3,CSE,color='b',width=barWidth,edgecolor='grey',label='CSE')\n",
    "plt.title(\"BAR CHART\")\n",
    "\n",
    "plt.xlabel('Branch',fontweight='bold',fontsize=15)\n",
    "plt.ylabel('students passed',fontweight='bold',fontsize=15)\n",
    "\n",
    "plt.legend()\n",
    "plt.show()"
   ]
  },
  {
   "cell_type": "markdown",
   "metadata": {},
   "source": [
    "# HISTOGRAM"
   ]
  },
  {
   "cell_type": "code",
   "execution_count": 22,
   "metadata": {},
   "outputs": [
    {
     "data": {
      "image/png": "[encoded data removed]",
      "text/plain": [
       "<Figure size 432x288 with 1 Axes>"
      ]
     },
     "metadata": {
      "needs_background": "light"
     },
     "output_type": "display_data"
    }
   ],
   "source": [
    "\n",
    "\n",
    "data=pd.read_csv(\"/home/rgukt/Downloads/householdtask3.csv\")\n",
    "\n",
    "plt.hist(data['income'])\n",
    "\n",
    "plt.title(\"Histogram\")\n",
    "\n",
    "plt.show()"
   ]
  }
 ],
 "metadata": {
  "kernelspec": {
   "display_name": "Python 3",
   "language": "python",
   "name": "python3"
  },
  "language_info": {
   "codemirror_mode": {
    "name": "ipython",
    "version": 3
   },
   "file_extension": ".py",
   "mimetype": "text/x-python",
   "name": "python",
   "nbconvert_exporter": "python",
   "pygments_lexer": "ipython3",
   "version": "3.8.10"
  }
 },
 "nbformat": 4,
 "nbformat_minor": 4
}
